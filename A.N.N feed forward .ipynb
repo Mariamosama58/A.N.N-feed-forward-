{
 "cells": [
  {
   "cell_type": "code",
   "execution_count": 17,
   "id": "6e9db417",
   "metadata": {},
   "outputs": [
    {
     "name": "stdout",
     "output_type": "stream",
     "text": [
      "Enter input i1: 0.7\n",
      "Enter input i2: 0.5\n",
      "Random Weights:\n",
      "w1: -0.2482750731783997, w2: -0.3538411389740945, w3: -0.4462662985639052, w4: -0.42274766315895795, w5: 0.24188475046685365, w6: 0.1340925145216867, w7: 0.4737247026280834, w8: -0.4931496760515085\n",
      "Output o1: 0.631691863825538\n",
      "Output o2: 0.6002870199244716\n"
     ]
    }
   ],
   "source": [
    "import random\n",
    "\n",
    "def tanh(x):\n",
    "    return (2 / (1 + (2.718281828459045 ** (-2 * x)))) - 1 \n",
    "\n",
    "i1 = float(input(\"Enter input i1: \"))\n",
    "i2 = float(input(\"Enter input i2: \"))\n",
    "\n",
    "w1 = random.uniform(-0.5, 0.5)\n",
    "w2 = random.uniform(-0.5, 0.5)\n",
    "w3 = random.uniform(-0.5, 0.5)\n",
    "w4 = random.uniform(-0.5, 0.5)\n",
    "w5 = random.uniform(-0.5, 0.5)\n",
    "w6 = random.uniform(-0.5, 0.5)\n",
    "w7 = random.uniform(-0.5, 0.5)\n",
    "w8 = random.uniform(-0.5, 0.5)\n",
    "\n",
    "print(f\"Random Weights:\")\n",
    "print(f\"w1: {w1}, w2: {w2}, w3: {w3}, w4: {w4}, w5: {w5}, w6: {w6}, w7: {w7}, w8: {w8}\")\n",
    "\n",
    "b1, b2 = 0.5, 0.7\n",
    "\n",
    "net_h1 = (i1 * w1) + (i2 * w3) + b1\n",
    "h1_output = tanh(net_h1)\n",
    "\n",
    "net_h2 = (i1 * w2) + (i2 * w4) + b1\n",
    "h2_output = tanh(net_h2)\n",
    "\n",
    "net_o1 = (h1_output * w5) + (h2_output * w7) + b2\n",
    "o1_output = tanh(net_o1)\n",
    "\n",
    "net_o2 = (h1_output * w6) + (h2_output * w8) + b2\n",
    "o2_output = tanh(net_o2)\n",
    "\n",
    "print(\"Output o1:\", o1_output)\n",
    "print(\"Output o2:\", o2_output)\n"
   ]
  },
  {
   "cell_type": "code",
   "execution_count": null,
   "id": "f6e46051",
   "metadata": {},
   "outputs": [],
   "source": []
  },
  {
   "cell_type": "code",
   "execution_count": null,
   "id": "a6abbf73",
   "metadata": {},
   "outputs": [],
   "source": []
  }
 ],
 "metadata": {
  "kernelspec": {
   "display_name": "Python 3 (ipykernel)",
   "language": "python",
   "name": "python3"
  },
  "language_info": {
   "codemirror_mode": {
    "name": "ipython",
    "version": 3
   },
   "file_extension": ".py",
   "mimetype": "text/x-python",
   "name": "python",
   "nbconvert_exporter": "python",
   "pygments_lexer": "ipython3",
   "version": "3.9.13"
  }
 },
 "nbformat": 4,
 "nbformat_minor": 5
}
